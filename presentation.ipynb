{
 "cells": [
  {
   "cell_type": "markdown",
   "metadata": {
    "collapsed": true,
    "slideshow": {
     "slide_type": "slide"
    }
   },
   "source": [
    "# Generators: x = yield 42 \n",
    "## And other applications"
   ]
  },
  {
   "cell_type": "markdown",
   "metadata": {},
   "source": [
    "### David Stuebe\n",
    "\n",
    "<a href=\"https://www.swipely.com/\" target=\"_blank\">www.swipely.com</a>\n",
    "\n",
    "<a href=\"mailto:davidstuebe@swipely.com\">davidstuebe@swipely.com</a>\n",
    "\n",
    "March 2, 2015"
   ]
  },
  {
   "cell_type": "markdown",
   "metadata": {
    "slideshow": {
     "slide_type": "subslide"
    }
   },
   "source": [
    "### Based on David M. Beazley\n",
    "### Generators: The Final Frontier\n",
    "<a href=\"http://www.dabeaz.com/finalgenerator/\" target=\"_blank\">http://www.dabeaz.com/finalgenerator/</a>\n",
    "\n",
    "### A Curious Course on Coroutines and Concurrency\n",
    "<a href=\"http://www.dabeaz.com/coroutines/\" target=\"_blank\">http://www.dabeaz.com/coroutines/</a>\n"
   ]
  },
  {
   "cell_type": "markdown",
   "metadata": {
    "slideshow": {
     "slide_type": "slide"
    }
   },
   "source": [
    "## What is a generator?\n",
    "```\n",
    "    A kind of function that can return an intermediate result (\"the next\n",
    "    value\") to its caller, but maintaining the function's local state so\n",
    "    that the function can be resumed again right where it left off.\n",
    "```\n",
    "<a href=\"https://www.python.org/dev/peps/pep-0255/\" target=\"_blank\">https://www.python.org/dev/peps/pep-0255//</a>\n",
    "\n"
   ]
  },
  {
   "cell_type": "code",
   "execution_count": 30,
   "metadata": {
    "collapsed": true
   },
   "outputs": [],
   "source": [
    "def fib():\n",
    "    a, b = 0, 1\n",
    "    while True:\n",
    "        yield b\n",
    "        a, b = b, a+b"
   ]
  },
  {
   "cell_type": "code",
   "execution_count": 31,
   "metadata": {
    "collapsed": false
   },
   "outputs": [
    {
     "name": "stdout",
     "output_type": "stream",
     "text": [
      "<generator object fib at 0x111227e60>\n"
     ]
    }
   ],
   "source": [
    "g = fib()\n",
    "print g\n"
   ]
  },
  {
   "cell_type": "code",
   "execution_count": 32,
   "metadata": {
    "collapsed": false
   },
   "outputs": [
    {
     "name": "stdout",
     "output_type": "stream",
     "text": [
      "1\n",
      "1\n",
      "2\n",
      "3\n",
      "5\n"
     ]
    }
   ],
   "source": [
    "print g.next()\n",
    "print g.next()\n",
    "print g.next()\n",
    "print g.next()\n",
    "print g.next()"
   ]
  },
  {
   "cell_type": "code",
   "execution_count": 33,
   "metadata": {
    "collapsed": true,
    "slideshow": {
     "slide_type": "slide"
    }
   },
   "outputs": [],
   "source": [
    "def coroutine(func):\n",
    "  \"\"\" A helper function decorator from Beazley\"\"\"\n",
    "  def start(*args, **kwargs):\n",
    "    g = func(*args, **kwargs)\n",
    "    g.next()\n",
    "    return g\n",
    "  return start\n",
    "\n",
    "@coroutine\n",
    "def cotuple2list():\n",
    "  \"\"\"This does the work\"\"\"\n",
    "  result = None\n",
    "  while True:\n",
    "    (tup, co_pool) = (yield result)\n",
    "    result = list(tup)\n",
    "    # I don't like using append. So I am changing the data in place.\n",
    "    for (i,x) in enumerate(result):\n",
    "      # consider using \"if hasattr(x,'__iter__')\"\n",
    "      if isinstance(x,tuple):\n",
    "        result[i] = co_pool[0].send((x, co_pool[1:]))\n",
    "\n",
    "\n",
    "@coroutine\n",
    "def colist2tuple():\n",
    "  \"\"\"This does the work\"\"\"\n",
    "  result = None\n",
    "  while True:\n",
    "    (lst, co_pool) = (yield result)\n",
    "    # I don't like using append so I am changing the data in place...\n",
    "    for (i,x) in enumerate(lst):\n",
    "      # consider using \"if hasattr(x,'__iter__')\"\n",
    "      if isinstance(x,list):\n",
    "        lst[i] = co_pool[0].send((x, co_pool[1:]))\n",
    "    result = tuple(lst)\n",
    "\n",
    "def list2tuple(a):\n",
    "  return tuple((list2tuple(x) if isinstance(x, list) else x for x in a))\n",
    "\n",
    "def tuple2list(a):\n",
    "  return list((tuple2list(x) if isinstance(x, tuple) else x for x in a))\n",
    "\n",
    "\n",
    "def make_test(m, n):\n",
    "  # Test data function taken from HYRY's post!\n",
    "  return [[range(m), make_test(m, n-1)] for i in range(n)]\n"
   ]
  },
  {
   "cell_type": "code",
   "execution_count": null,
   "metadata": {
    "collapsed": true
   },
   "outputs": [],
   "source": []
  },
  {
   "cell_type": "code",
   "execution_count": 34,
   "metadata": {
    "collapsed": false
   },
   "outputs": [
    {
     "data": {
      "text/plain": [
       "(((0, 1), (((0, 1), (((0, 1), ()),)), ((0, 1), (((0, 1), ()),)))),\n",
       " ((0, 1), (((0, 1), (((0, 1), ()),)), ((0, 1), (((0, 1), ()),)))),\n",
       " ((0, 1), (((0, 1), (((0, 1), ()),)), ((0, 1), (((0, 1), ()),)))))"
      ]
     },
     "execution_count": 34,
     "metadata": {},
     "output_type": "execute_result"
    }
   ],
   "source": [
    "list2tuple(make_test(2,3))"
   ]
  },
  {
   "cell_type": "code",
   "execution_count": null,
   "metadata": {
    "collapsed": true
   },
   "outputs": [],
   "source": []
  },
  {
   "cell_type": "code",
   "execution_count": null,
   "metadata": {
    "collapsed": true
   },
   "outputs": [],
   "source": []
  },
  {
   "cell_type": "code",
   "execution_count": null,
   "metadata": {
    "collapsed": true
   },
   "outputs": [],
   "source": []
  }
 ],
 "metadata": {
  "celltoolbar": "Slideshow",
  "kernelspec": {
   "display_name": "Python 2",
   "language": "python",
   "name": "python2"
  },
  "language_info": {
   "codemirror_mode": {
    "name": "ipython",
    "version": 2
   },
   "file_extension": ".py",
   "mimetype": "text/x-python",
   "name": "python",
   "nbconvert_exporter": "python",
   "pygments_lexer": "ipython2",
   "version": "2.7.8"
  }
 },
 "nbformat": 4,
 "nbformat_minor": 0
}
