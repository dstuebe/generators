{
 "cells": [
  {
   "cell_type": "markdown",
   "metadata": {
    "collapsed": true,
    "slideshow": {
     "slide_type": "slide"
    }
   },
   "source": [
    "# Generators: x = yield 42 \n",
    "## And other applications"
   ]
  },
  {
   "cell_type": "markdown",
   "metadata": {},
   "source": [
    "### David Stuebe\n",
    "\n",
    "<a href=\"https://www.swipely.com/\" target=\"_blank\">www.swipely.com</a>\n",
    "\n",
    "<a href=\"mailto:davidstuebe@swipely.com\">davidstuebe@swipely.com</a>\n",
    "\n",
    "March 2, 2015"
   ]
  },
  {
   "cell_type": "markdown",
   "metadata": {
    "slideshow": {
     "slide_type": "slide"
    }
   },
   "source": [
    "##What is a generator?\n",
    "___\n",
    "\n",
    "```\n",
    "    A kind of function that can return an intermediate result (\"the next\n",
    "    value\") to its caller, but maintaining the function's local state so\n",
    "    that the function can be resumed again right where it left off.\n",
    "```\n",
    "<a href=\"https://www.python.org/dev/peps/pep-0255/\" target=\"_blank\">PEP 255</a> introduced the generator object and the *yield* statement in version 2.2 of Python."
   ]
  },
  {
   "cell_type": "code",
   "execution_count": 435,
   "metadata": {
    "collapsed": true
   },
   "outputs": [],
   "source": [
    "def fib():\n",
    "    a, b = 0, 1\n",
    "    while True:\n",
    "        yield b\n",
    "        a, b = b, a+b"
   ]
  },
  {
   "cell_type": "code",
   "execution_count": 436,
   "metadata": {
    "collapsed": false
   },
   "outputs": [
    {
     "name": "stdout",
     "output_type": "stream",
     "text": [
      "<generator object fib at 0x112be1b40>\n"
     ]
    }
   ],
   "source": [
    "function_result = fib()\n",
    "print function_result"
   ]
  },
  {
   "cell_type": "markdown",
   "metadata": {},
   "source": [
    "---\n",
    "The result of calling the gererator function is a generator object.\n",
    "The generator object can be used as an iterator."
   ]
  },
  {
   "cell_type": "markdown",
   "metadata": {
    "slideshow": {
     "slide_type": "subslide"
    }
   },
   "source": [
    "The generator is an iterator\n",
    "---"
   ]
  },
  {
   "cell_type": "code",
   "execution_count": 437,
   "metadata": {
    "collapsed": false
   },
   "outputs": [
    {
     "data": {
      "text/plain": [
       "True"
      ]
     },
     "execution_count": 437,
     "metadata": {},
     "output_type": "execute_result"
    }
   ],
   "source": [
    "g.__iter__() is g\n"
   ]
  },
  {
   "cell_type": "code",
   "execution_count": 438,
   "metadata": {
    "collapsed": false,
    "slideshow": {
     "slide_type": "-"
    }
   },
   "outputs": [
    {
     "data": {
      "text/plain": [
       "[(0, 1),\n",
       " (1, 1),\n",
       " (2, 2),\n",
       " (3, 3),\n",
       " (4, 5),\n",
       " (5, 8),\n",
       " (6, 13),\n",
       " (7, 21),\n",
       " (8, 34),\n",
       " (9, 55)]"
      ]
     },
     "execution_count": 438,
     "metadata": {},
     "output_type": "execute_result"
    }
   ],
   "source": [
    "zip(xrange(10),function_result)"
   ]
  },
  {
   "cell_type": "code",
   "execution_count": 439,
   "metadata": {
    "collapsed": false
   },
   "outputs": [
    {
     "data": {
      "text/plain": [
       "(10, 89)"
      ]
     },
     "execution_count": 439,
     "metadata": {},
     "output_type": "execute_result"
    }
   ],
   "source": [
    "(10, function_result.next())"
   ]
  },
  {
   "cell_type": "markdown",
   "metadata": {
    "slideshow": {
     "slide_type": "subslide"
    }
   },
   "source": [
    "## Inside a generator\n",
    "---\n",
    "Inside the generator we can see that execution is paused after the *yield* and state is maintained between calls to next\n"
   ]
  },
  {
   "cell_type": "code",
   "execution_count": 440,
   "metadata": {
    "collapsed": false
   },
   "outputs": [],
   "source": [
    "def noisy_generator():\n",
    "    print '  Initializing'\n",
    "    print '  first yield'\n",
    "    yield \"A\"\n",
    "    print '  generator running...'\n",
    "    print '  second yield'\n",
    "    yield \"B\"\n",
    "    print '  generator running...'\n",
    "    print '  now what?'"
   ]
  },
  {
   "cell_type": "code",
   "execution_count": 441,
   "metadata": {
    "collapsed": false,
    "slideshow": {
     "slide_type": "fragment"
    }
   },
   "outputs": [
    {
     "name": "stdout",
     "output_type": "stream",
     "text": [
      "  Initializing\n",
      "  first yield\n",
      "Result 1: A\n",
      "  generator running...\n",
      "  second yield\n",
      "Result 2: B\n",
      "  generator running...\n",
      "  now what?\n"
     ]
    },
    {
     "ename": "StopIteration",
     "evalue": "",
     "output_type": "error",
     "traceback": [
      "\u001b[0;31m---------------------------------------------------------------------------\u001b[0m",
      "\u001b[0;31mStopIteration\u001b[0m                             Traceback (most recent call last)",
      "\u001b[0;32m<ipython-input-441-b47923eb3253>\u001b[0m in \u001b[0;36m<module>\u001b[0;34m()\u001b[0m\n\u001b[1;32m      2\u001b[0m \u001b[0;32mprint\u001b[0m \u001b[0;34m'Result 1: %s'\u001b[0m \u001b[0;34m%\u001b[0m \u001b[0mg\u001b[0m\u001b[0;34m.\u001b[0m\u001b[0mnext\u001b[0m\u001b[0;34m(\u001b[0m\u001b[0;34m)\u001b[0m\u001b[0;34m\u001b[0m\u001b[0m\n\u001b[1;32m      3\u001b[0m \u001b[0;32mprint\u001b[0m \u001b[0;34m'Result 2: %s'\u001b[0m \u001b[0;34m%\u001b[0m \u001b[0mg\u001b[0m\u001b[0;34m.\u001b[0m\u001b[0mnext\u001b[0m\u001b[0;34m(\u001b[0m\u001b[0;34m)\u001b[0m\u001b[0;34m\u001b[0m\u001b[0m\n\u001b[0;32m----> 4\u001b[0;31m \u001b[0;32mprint\u001b[0m \u001b[0;34m'Result 3: %s'\u001b[0m \u001b[0;34m%\u001b[0m \u001b[0mg\u001b[0m\u001b[0;34m.\u001b[0m\u001b[0mnext\u001b[0m\u001b[0;34m(\u001b[0m\u001b[0;34m)\u001b[0m\u001b[0;34m\u001b[0m\u001b[0m\n\u001b[0m",
      "\u001b[0;31mStopIteration\u001b[0m: "
     ]
    }
   ],
   "source": [
    "g = noisy_generator()        \n",
    "print 'Result 1: %s' % g.next()\n",
    "print 'Result 2: %s' % g.next()\n",
    "print 'Result 3: %s' % g.next()"
   ]
  },
  {
   "cell_type": "markdown",
   "metadata": {
    "slideshow": {
     "slide_type": "slide"
    }
   },
   "source": [
    "## Generator interface\n",
    "---"
   ]
  },
  {
   "cell_type": "code",
   "execution_count": 442,
   "metadata": {
    "collapsed": false,
    "scrolled": true
   },
   "outputs": [
    {
     "name": "stdout",
     "output_type": "stream",
     "text": [
      "Help on generator object:\n",
      "\n",
      "noisy_generator = class generator(object)\n",
      " |  Methods defined here:\n",
      " |  \n",
      " |  __getattribute__(...)\n",
      " |      x.__getattribute__('name') <==> x.name\n",
      " |  \n",
      " |  __iter__(...)\n",
      " |      x.__iter__() <==> iter(x)\n",
      " |  \n",
      " |  __repr__(...)\n",
      " |      x.__repr__() <==> repr(x)\n",
      " |  \n",
      " |  close(...)\n",
      " |      close() -> raise GeneratorExit inside generator.\n",
      " |  \n",
      " |  next(...)\n",
      " |      x.next() -> the next value, or raise StopIteration\n",
      " |  \n",
      " |  send(...)\n",
      " |      send(arg) -> send 'arg' into generator,\n",
      " |      return next yielded value or raise StopIteration.\n",
      " |  \n",
      " |  throw(...)\n",
      " |      throw(typ[,val[,tb]]) -> raise exception in generator,\n",
      " |      return next yielded value or raise StopIteration.\n",
      " |  \n",
      " |  ----------------------------------------------------------------------\n",
      " |  Data descriptors defined here:\n",
      " |  \n",
      " |  gi_code\n",
      " |  \n",
      " |  gi_frame\n",
      " |  \n",
      " |  gi_running\n",
      "\n"
     ]
    }
   ],
   "source": [
    "help(g)"
   ]
  },
  {
   "cell_type": "markdown",
   "metadata": {
    "slideshow": {
     "slide_type": "subslide"
    }
   },
   "source": [
    "## Generator interface: throw\n",
    "---"
   ]
  },
  {
   "cell_type": "code",
   "execution_count": 443,
   "metadata": {
    "collapsed": false
   },
   "outputs": [
    {
     "name": "stdout",
     "output_type": "stream",
     "text": [
      "Help on built-in function throw:\n",
      "\n",
      "throw(...)\n",
      "    throw(typ[,val[,tb]]) -> raise exception in generator,\n",
      "    return next yielded value or raise StopIteration.\n",
      "\n"
     ]
    }
   ],
   "source": [
    "help(g.throw)"
   ]
  },
  {
   "cell_type": "markdown",
   "metadata": {},
   "source": [
    "Looks fun - lets try it..."
   ]
  },
  {
   "cell_type": "code",
   "execution_count": 444,
   "metadata": {
    "collapsed": false,
    "slideshow": {
     "slide_type": "subslide"
    }
   },
   "outputs": [
    {
     "name": "stdout",
     "output_type": "stream",
     "text": [
      "Initializing\n"
     ]
    },
    {
     "data": {
      "text/plain": [
       "'Hello'"
      ]
     },
     "execution_count": 444,
     "metadata": {},
     "output_type": "execute_result"
    }
   ],
   "source": [
    "def accepting_generator():\n",
    "    print 'Initializing'\n",
    "    try:\n",
    "        yield 'Hello'\n",
    "        print 'generator running...'\n",
    "    except StandardError as e:\n",
    "        print \"Error Message: %s\" % e\n",
    "        yield 'World'\n",
    "\n",
    "g = accepting_generator()\n",
    "g.next()"
   ]
  },
  {
   "cell_type": "code",
   "execution_count": 445,
   "metadata": {
    "collapsed": false
   },
   "outputs": [
    {
     "name": "stdout",
     "output_type": "stream",
     "text": [
      "Error Message: Foo bar baz\n"
     ]
    },
    {
     "data": {
      "text/plain": [
       "'World'"
      ]
     },
     "execution_count": 445,
     "metadata": {},
     "output_type": "execute_result"
    }
   ],
   "source": [
    "g.throw(StandardError, 'Foo bar baz')"
   ]
  },
  {
   "cell_type": "code",
   "execution_count": 446,
   "metadata": {
    "collapsed": false,
    "slideshow": {
     "slide_type": "fragment"
    }
   },
   "outputs": [
    {
     "ename": "StopIteration",
     "evalue": "",
     "output_type": "error",
     "traceback": [
      "\u001b[0;31m---------------------------------------------------------------------------\u001b[0m",
      "\u001b[0;31mStopIteration\u001b[0m                             Traceback (most recent call last)",
      "\u001b[0;32m<ipython-input-446-d7e53364a9a7>\u001b[0m in \u001b[0;36m<module>\u001b[0;34m()\u001b[0m\n\u001b[0;32m----> 1\u001b[0;31m \u001b[0mg\u001b[0m\u001b[0;34m.\u001b[0m\u001b[0mnext\u001b[0m\u001b[0;34m(\u001b[0m\u001b[0;34m)\u001b[0m\u001b[0;34m\u001b[0m\u001b[0m\n\u001b[0m",
      "\u001b[0;31mStopIteration\u001b[0m: "
     ]
    }
   ],
   "source": [
    "g.next()"
   ]
  },
  {
   "cell_type": "markdown",
   "metadata": {
    "slideshow": {
     "slide_type": "subslide"
    }
   },
   "source": [
    "## Generator interface: close\n",
    "---"
   ]
  },
  {
   "cell_type": "code",
   "execution_count": 447,
   "metadata": {
    "collapsed": false
   },
   "outputs": [
    {
     "name": "stdout",
     "output_type": "stream",
     "text": [
      "Help on built-in function close:\n",
      "\n",
      "close(...)\n",
      "    close() -> raise GeneratorExit inside generator.\n",
      "\n"
     ]
    }
   ],
   "source": [
    "help(g.close)"
   ]
  },
  {
   "cell_type": "code",
   "execution_count": 448,
   "metadata": {
    "collapsed": false
   },
   "outputs": [
    {
     "data": {
      "text/plain": [
       "1"
      ]
     },
     "execution_count": 448,
     "metadata": {},
     "output_type": "execute_result"
    }
   ],
   "source": [
    "def closeable():\n",
    "    try:\n",
    "        yield 1\n",
    "        yield 2\n",
    "    except GeneratorExit:\n",
    "        print 'closing'\n",
    "g = closeable()\n",
    "g.next()"
   ]
  },
  {
   "cell_type": "code",
   "execution_count": 449,
   "metadata": {
    "collapsed": false
   },
   "outputs": [
    {
     "name": "stdout",
     "output_type": "stream",
     "text": [
      "closing\n"
     ]
    }
   ],
   "source": [
    "g.close()"
   ]
  },
  {
   "cell_type": "code",
   "execution_count": 450,
   "metadata": {
    "collapsed": false
   },
   "outputs": [
    {
     "ename": "StopIteration",
     "evalue": "",
     "output_type": "error",
     "traceback": [
      "\u001b[0;31m---------------------------------------------------------------------------\u001b[0m",
      "\u001b[0;31mStopIteration\u001b[0m                             Traceback (most recent call last)",
      "\u001b[0;32m<ipython-input-450-d7e53364a9a7>\u001b[0m in \u001b[0;36m<module>\u001b[0;34m()\u001b[0m\n\u001b[0;32m----> 1\u001b[0;31m \u001b[0mg\u001b[0m\u001b[0;34m.\u001b[0m\u001b[0mnext\u001b[0m\u001b[0;34m(\u001b[0m\u001b[0;34m)\u001b[0m\u001b[0;34m\u001b[0m\u001b[0m\n\u001b[0m",
      "\u001b[0;31mStopIteration\u001b[0m: "
     ]
    }
   ],
   "source": [
    "g.next()"
   ]
  },
  {
   "cell_type": "markdown",
   "metadata": {
    "slideshow": {
     "slide_type": "subslide"
    }
   },
   "source": [
    "## Generator interface: send\n",
    "---"
   ]
  },
  {
   "cell_type": "code",
   "execution_count": 451,
   "metadata": {
    "collapsed": false,
    "slideshow": {
     "slide_type": "-"
    }
   },
   "outputs": [
    {
     "name": "stdout",
     "output_type": "stream",
     "text": [
      "Help on built-in function send:\n",
      "\n",
      "send(...)\n",
      "    send(arg) -> send 'arg' into generator,\n",
      "    return next yielded value or raise StopIteration.\n",
      "\n"
     ]
    }
   ],
   "source": [
    "help(g.send)"
   ]
  },
  {
   "cell_type": "code",
   "execution_count": 452,
   "metadata": {
    "collapsed": false
   },
   "outputs": [
    {
     "ename": "TypeError",
     "evalue": "can't send non-None value to a just-started generator",
     "output_type": "error",
     "traceback": [
      "\u001b[0;31m---------------------------------------------------------------------------\u001b[0m",
      "\u001b[0;31mTypeError\u001b[0m                                 Traceback (most recent call last)",
      "\u001b[0;32m<ipython-input-452-73713f4894f7>\u001b[0m in \u001b[0;36m<module>\u001b[0;34m()\u001b[0m\n\u001b[1;32m      1\u001b[0m \u001b[0mg\u001b[0m \u001b[0;34m=\u001b[0m \u001b[0mfib\u001b[0m\u001b[0;34m(\u001b[0m\u001b[0;34m)\u001b[0m\u001b[0;34m\u001b[0m\u001b[0m\n\u001b[0;32m----> 2\u001b[0;31m \u001b[0mg\u001b[0m\u001b[0;34m.\u001b[0m\u001b[0msend\u001b[0m\u001b[0;34m(\u001b[0m\u001b[0;34m'foo'\u001b[0m\u001b[0;34m)\u001b[0m\u001b[0;34m\u001b[0m\u001b[0m\n\u001b[0m",
      "\u001b[0;31mTypeError\u001b[0m: can't send non-None value to a just-started generator"
     ]
    }
   ],
   "source": [
    "g = fib()\n",
    "g.send('foo')"
   ]
  },
  {
   "cell_type": "markdown",
   "metadata": {},
   "source": [
    "so *next()* is really just *send(None)* "
   ]
  },
  {
   "cell_type": "markdown",
   "metadata": {},
   "source": [
    "## Lets try that again..."
   ]
  },
  {
   "cell_type": "code",
   "execution_count": 453,
   "metadata": {
    "collapsed": false,
    "slideshow": {
     "slide_type": "subslide"
    }
   },
   "outputs": [
    {
     "data": {
      "text/plain": [
       "1"
      ]
     },
     "execution_count": 453,
     "metadata": {},
     "output_type": "execute_result"
    }
   ],
   "source": [
    "g = fib()\n",
    "g.send(None)"
   ]
  },
  {
   "cell_type": "code",
   "execution_count": 454,
   "metadata": {
    "collapsed": false,
    "slideshow": {
     "slide_type": "fragment"
    }
   },
   "outputs": [
    {
     "data": {
      "text/plain": [
       "1"
      ]
     },
     "execution_count": 454,
     "metadata": {},
     "output_type": "execute_result"
    }
   ],
   "source": [
    "g.send(None)"
   ]
  },
  {
   "cell_type": "markdown",
   "metadata": {
    "slideshow": {
     "slide_type": "fragment"
    }
   },
   "source": [
    "What is *send('foo')* ?"
   ]
  },
  {
   "cell_type": "code",
   "execution_count": 455,
   "metadata": {
    "collapsed": false,
    "slideshow": {
     "slide_type": "fragment"
    }
   },
   "outputs": [
    {
     "data": {
      "text/plain": [
       "2"
      ]
     },
     "execution_count": 455,
     "metadata": {},
     "output_type": "execute_result"
    }
   ],
   "source": [
    "g.send('foo')"
   ]
  },
  {
   "cell_type": "markdown",
   "metadata": {},
   "source": [
    "Where did it go?"
   ]
  },
  {
   "cell_type": "markdown",
   "metadata": {
    "slideshow": {
     "slide_type": "slide"
    }
   },
   "source": [
    "## What is generator.send?\n",
    "```\n",
    "    Coroutines are a natural way of expressing many algorithms, such as\n",
    "    simulations, games, asynchronous I/O, and other forms of event-\n",
    "    driven programming or co-operative multitasking.  Python's generator\n",
    "    functions are almost coroutines -- but not quite -- in that they\n",
    "    allow pausing execution to produce a value, but do not provide for\n",
    "    values or exceptions to be passed in when execution resumes.  They\n",
    "    also do not allow execution to be paused within the \"try\" portion of\n",
    "    try/finally blocks, and therefore make it difficult for an aborted\n",
    "    coroutine to clean up after itself.\n",
    "```\n",
    "<a href=\"https://www.python.org/dev/peps/pep-0342/\" target=\"_blank\">PEP 342</a> added *close*, *send* and *throw* to the generator in version 2.5 of python and made *yield* an expresion rather than a statement.\n"
   ]
  },
  {
   "cell_type": "code",
   "execution_count": 456,
   "metadata": {
    "collapsed": false,
    "slideshow": {
     "slide_type": "fragment"
    }
   },
   "outputs": [
    {
     "data": {
      "text/plain": [
       "5"
      ]
     },
     "execution_count": 456,
     "metadata": {},
     "output_type": "execute_result"
    }
   ],
   "source": [
    "def adder(val):\n",
    "    x = 0\n",
    "    while True:\n",
    "        x = yield val+x\n",
    "        \n",
    "g = adder(5)\n",
    "g.send(None)"
   ]
  },
  {
   "cell_type": "code",
   "execution_count": 457,
   "metadata": {
    "collapsed": false,
    "slideshow": {
     "slide_type": "fragment"
    }
   },
   "outputs": [
    {
     "data": {
      "text/plain": [
       "7"
      ]
     },
     "execution_count": 457,
     "metadata": {},
     "output_type": "execute_result"
    }
   ],
   "source": [
    "g.send(2)"
   ]
  },
  {
   "cell_type": "code",
   "execution_count": 458,
   "metadata": {
    "collapsed": false,
    "slideshow": {
     "slide_type": "fragment"
    }
   },
   "outputs": [
    {
     "data": {
      "text/plain": [
       "11"
      ]
     },
     "execution_count": 458,
     "metadata": {},
     "output_type": "execute_result"
    }
   ],
   "source": [
    "g.send(6)\n",
    "        "
   ]
  },
  {
   "cell_type": "markdown",
   "metadata": {
    "slideshow": {
     "slide_type": "subslide"
    }
   },
   "source": [
    "Inside a generator part 2\n",
    "---"
   ]
  },
  {
   "cell_type": "code",
   "execution_count": 459,
   "metadata": {
    "collapsed": true,
    "slideshow": {
     "slide_type": "-"
    }
   },
   "outputs": [],
   "source": [
    "def noisy_coroutine():\n",
    "    print '  Initializing'\n",
    "    print '  first yield'\n",
    "    received = yield \"A\"\n",
    "    print '  generator running after receiving: %s' % received\n",
    "    print '  second yield'\n",
    "    received = yield \"B\"\n",
    "    print '  generator running after receiving: %s' % received\n",
    "    print '  now what?'"
   ]
  },
  {
   "cell_type": "code",
   "execution_count": 460,
   "metadata": {
    "collapsed": false,
    "slideshow": {
     "slide_type": "fragment"
    }
   },
   "outputs": [
    {
     "name": "stdout",
     "output_type": "stream",
     "text": [
      "  Initializing\n",
      "  first yield\n"
     ]
    },
    {
     "data": {
      "text/plain": [
       "'A'"
      ]
     },
     "execution_count": 460,
     "metadata": {},
     "output_type": "execute_result"
    }
   ],
   "source": [
    "g = noisy_coroutine()\n",
    "g.send(None)"
   ]
  },
  {
   "cell_type": "code",
   "execution_count": 461,
   "metadata": {
    "collapsed": false,
    "slideshow": {
     "slide_type": "fragment"
    }
   },
   "outputs": [
    {
     "name": "stdout",
     "output_type": "stream",
     "text": [
      "  generator running after receiving: 1\n",
      "  second yield\n"
     ]
    },
    {
     "data": {
      "text/plain": [
       "'B'"
      ]
     },
     "execution_count": 461,
     "metadata": {},
     "output_type": "execute_result"
    }
   ],
   "source": [
    "g.send(1)\n"
   ]
  },
  {
   "cell_type": "code",
   "execution_count": 462,
   "metadata": {
    "collapsed": false,
    "slideshow": {
     "slide_type": "fragment"
    }
   },
   "outputs": [
    {
     "name": "stdout",
     "output_type": "stream",
     "text": [
      "  generator running after receiving: 2\n",
      "  now what?\n"
     ]
    },
    {
     "ename": "StopIteration",
     "evalue": "",
     "output_type": "error",
     "traceback": [
      "\u001b[0;31m---------------------------------------------------------------------------\u001b[0m",
      "\u001b[0;31mStopIteration\u001b[0m                             Traceback (most recent call last)",
      "\u001b[0;32m<ipython-input-462-7a89fd35d27c>\u001b[0m in \u001b[0;36m<module>\u001b[0;34m()\u001b[0m\n\u001b[0;32m----> 1\u001b[0;31m \u001b[0mg\u001b[0m\u001b[0;34m.\u001b[0m\u001b[0msend\u001b[0m\u001b[0;34m(\u001b[0m\u001b[0;36m2\u001b[0m\u001b[0;34m)\u001b[0m\u001b[0;34m\u001b[0m\u001b[0m\n\u001b[0m",
      "\u001b[0;31mStopIteration\u001b[0m: "
     ]
    }
   ],
   "source": [
    "g.send(2)"
   ]
  },
  {
   "cell_type": "code",
   "execution_count": 463,
   "metadata": {
    "collapsed": false,
    "slideshow": {
     "slide_type": "skip"
    }
   },
   "outputs": [
    {
     "name": "stdout",
     "output_type": "stream",
     "text": [
      "(1, 2, 3)\n"
     ]
    }
   ],
   "source": [
    "def foo():\n",
    "    x = yield\n",
    "    y = yield\n",
    "    z = yield\n",
    "    yield x, y, z\n",
    "    \n",
    "g = foo()\n",
    "g.next()\n",
    "g.send(1)\n",
    "g.send(2)\n",
    "print g.send(3)"
   ]
  },
  {
   "cell_type": "markdown",
   "metadata": {
    "slideshow": {
     "slide_type": "slide"
    }
   },
   "source": [
    "Calling next to start the generator is a pain\n",
    "___\n",
    "Lets fix that with a decorator..."
   ]
  },
  {
   "cell_type": "code",
   "execution_count": 464,
   "metadata": {
    "collapsed": true
   },
   "outputs": [],
   "source": [
    "def consumer(func):\n",
    "    def wrapper(*args,**kw):\n",
    "        gen = func(*args, **kw)\n",
    "        gen.next()\n",
    "        return gen\n",
    "    wrapper.__name__ = func.__name__\n",
    "    wrapper.__doc__  = func.__doc__\n",
    "    return wrapper"
   ]
  },
  {
   "cell_type": "code",
   "execution_count": 465,
   "metadata": {
    "collapsed": false,
    "slideshow": {
     "slide_type": "fragment"
    }
   },
   "outputs": [
    {
     "name": "stdout",
     "output_type": "stream",
     "text": [
      "15\n",
      "6\n"
     ]
    }
   ],
   "source": [
    "g = consumer(adder)(4)\n",
    "print g.send(11)\n",
    "print g.send(2)"
   ]
  },
  {
   "cell_type": "code",
   "execution_count": 466,
   "metadata": {
    "collapsed": false,
    "slideshow": {
     "slide_type": "fragment"
    }
   },
   "outputs": [
    {
     "data": {
      "text/plain": [
       "7"
      ]
     },
     "execution_count": 466,
     "metadata": {},
     "output_type": "execute_result"
    }
   ],
   "source": [
    "@consumer\n",
    "def subtractor(val):\n",
    "    '''A generator that subtracts numbers from a value'''\n",
    "    x = 0\n",
    "    while True:\n",
    "        x = yield x - val\n",
    "\n",
    "g = subtractor(8)\n",
    "g.send(15)\n"
   ]
  },
  {
   "cell_type": "code",
   "execution_count": 467,
   "metadata": {
    "collapsed": false
   },
   "outputs": [
    {
     "name": "stdout",
     "output_type": "stream",
     "text": [
      "Help on function subtractor in module __main__:\n",
      "\n",
      "subtractor(*args, **kw)\n",
      "    A generator that subtracts numbers from a value\n",
      "\n"
     ]
    }
   ],
   "source": [
    "help(subtractor)"
   ]
  },
  {
   "cell_type": "markdown",
   "metadata": {
    "slideshow": {
     "slide_type": "slide"
    }
   },
   "source": [
    "## Lets try and do something interesting\n",
    "___\n",
    "So far we have looked at simple examples but we can use generators for:"
   ]
  },
  {
   "cell_type": "markdown",
   "metadata": {},
   "source": [
    "* Iteration"
   ]
  },
  {
   "cell_type": "markdown",
   "metadata": {},
   "source": [
    "* Data flow"
   ]
  },
  {
   "cell_type": "markdown",
   "metadata": {},
   "source": [
    "* Concurrancy"
   ]
  },
  {
   "cell_type": "markdown",
   "metadata": {},
   "source": [
    "* Reformulate control flow"
   ]
  },
  {
   "cell_type": "markdown",
   "metadata": {
    "slideshow": {
     "slide_type": "slide"
    }
   },
   "source": [
    "## Iteration (a la <a href=\"http://www.dabeaz.com/coroutines/\" target=\"_blank\">David Beazley</a>)\n",
    "___\n",
    "An example of setting up a processing pipeline with generators"
   ]
  },
  {
   "cell_type": "code",
   "execution_count": 418,
   "metadata": {
    "collapsed": false
   },
   "outputs": [
    {
     "name": "stdout",
     "output_type": "stream",
     "text": [
      "217.237.150.206 - - [02/Apr/2015:00:47:42 -0600] \"GET /python/tutorial/beazley_advanced_python/Slides/SLIDE060.HTM HTTP/1.0\" 200 1686\n",
      "129.106.32.126 - - [02/Apr/2015:00:47:43 -0600] \"GET /python/tutorial/beazley_advanced_python/Slides/SLIDE006.HTM HTTP/1.0\" 200 1254\n",
      "66.91.239.214 - - [02/Apr/2015:00:47:44 -0600] \"GET /python/tutorial/beazley_advanced_python/Slides/SLIDE014.HTM HTTP/1.0\" 200 1232\n",
      "217.219.18.80 - - [02/Apr/2015:00:47:46 -0600] \"GET /python/tutorial/beazley_advanced_python/Slides/SLIDE090.HTM HTTP/1.0\" 200 2001\n"
     ]
    },
    {
     "ename": "KeyboardInterrupt",
     "evalue": "",
     "output_type": "error",
     "traceback": [
      "\u001b[0;31m---------------------------------------------------------------------------\u001b[0m",
      "\u001b[0;31mKeyboardInterrupt\u001b[0m                         Traceback (most recent call last)",
      "\u001b[0;32m<ipython-input-418-8786720a03f2>\u001b[0m in \u001b[0;36m<module>\u001b[0;34m()\u001b[0m\n\u001b[1;32m     21\u001b[0m \u001b[0;34m\u001b[0m\u001b[0m\n\u001b[1;32m     22\u001b[0m     \u001b[0;31m# Pull results out of the processing pipeline\u001b[0m\u001b[0;34m\u001b[0m\u001b[0;34m\u001b[0m\u001b[0m\n\u001b[0;32m---> 23\u001b[0;31m     \u001b[0;32mfor\u001b[0m \u001b[0mline\u001b[0m \u001b[0;32min\u001b[0m \u001b[0mpylines\u001b[0m\u001b[0;34m:\u001b[0m\u001b[0;34m\u001b[0m\u001b[0m\n\u001b[0m\u001b[1;32m     24\u001b[0m         \u001b[0;32mprint\u001b[0m \u001b[0mline\u001b[0m\u001b[0;34m,\u001b[0m\u001b[0;34m\u001b[0m\u001b[0m\n",
      "\u001b[0;32m<ipython-input-418-8786720a03f2>\u001b[0m in \u001b[0;36mgrep\u001b[0;34m(pattern, lines)\u001b[0m\n\u001b[1;32m      1\u001b[0m \u001b[0;31m# From http://www.dabeaz.com/coroutines/pipeline.py\u001b[0m\u001b[0;34m\u001b[0m\u001b[0;34m\u001b[0m\u001b[0m\n\u001b[1;32m      2\u001b[0m \u001b[0;32mdef\u001b[0m \u001b[0mgrep\u001b[0m\u001b[0;34m(\u001b[0m\u001b[0mpattern\u001b[0m\u001b[0;34m,\u001b[0m\u001b[0mlines\u001b[0m\u001b[0;34m)\u001b[0m\u001b[0;34m:\u001b[0m\u001b[0;34m\u001b[0m\u001b[0m\n\u001b[0;32m----> 3\u001b[0;31m     \u001b[0;32mfor\u001b[0m \u001b[0mline\u001b[0m \u001b[0;32min\u001b[0m \u001b[0mlines\u001b[0m\u001b[0;34m:\u001b[0m\u001b[0;34m\u001b[0m\u001b[0m\n\u001b[0m\u001b[1;32m      4\u001b[0m         \u001b[0;32mif\u001b[0m \u001b[0mpattern\u001b[0m \u001b[0;32min\u001b[0m \u001b[0mline\u001b[0m\u001b[0;34m:\u001b[0m\u001b[0;34m\u001b[0m\u001b[0m\n\u001b[1;32m      5\u001b[0m              \u001b[0;32myield\u001b[0m \u001b[0mline\u001b[0m\u001b[0;34m\u001b[0m\u001b[0m\n",
      "\u001b[0;32m<ipython-input-418-8786720a03f2>\u001b[0m in \u001b[0;36mfollow\u001b[0;34m(thefile)\u001b[0m\n\u001b[1;32m     11\u001b[0m          \u001b[0mline\u001b[0m \u001b[0;34m=\u001b[0m \u001b[0mthefile\u001b[0m\u001b[0;34m.\u001b[0m\u001b[0mreadline\u001b[0m\u001b[0;34m(\u001b[0m\u001b[0;34m)\u001b[0m\u001b[0;34m\u001b[0m\u001b[0m\n\u001b[1;32m     12\u001b[0m          \u001b[0;32mif\u001b[0m \u001b[0;32mnot\u001b[0m \u001b[0mline\u001b[0m\u001b[0;34m:\u001b[0m\u001b[0;34m\u001b[0m\u001b[0m\n\u001b[0;32m---> 13\u001b[0;31m              \u001b[0mtime\u001b[0m\u001b[0;34m.\u001b[0m\u001b[0msleep\u001b[0m\u001b[0;34m(\u001b[0m\u001b[0;36m0.1\u001b[0m\u001b[0;34m)\u001b[0m    \u001b[0;31m# Sleep briefly\u001b[0m\u001b[0;34m\u001b[0m\u001b[0m\n\u001b[0m\u001b[1;32m     14\u001b[0m              \u001b[0;32mcontinue\u001b[0m\u001b[0;34m\u001b[0m\u001b[0m\n\u001b[1;32m     15\u001b[0m          \u001b[0;32myield\u001b[0m \u001b[0mline\u001b[0m\u001b[0;34m\u001b[0m\u001b[0m\n",
      "\u001b[0;31mKeyboardInterrupt\u001b[0m: "
     ]
    }
   ],
   "source": [
    "# From http://www.dabeaz.com/coroutines/pipeline.py\n",
    "def grep(pattern,lines):\n",
    "    for line in lines:\n",
    "        if pattern in line:\n",
    "             yield line\n",
    "\n",
    "import time\n",
    "def follow(thefile):\n",
    "    thefile.seek(0,2)      # Go to the end of the file\n",
    "    while True:\n",
    "         line = thefile.readline()\n",
    "         if not line:\n",
    "             time.sleep(0.1)    # Sleep briefly\n",
    "             continue\n",
    "         yield line\n",
    "\n",
    "# Set up a processing pipe : tail -f | grep python\n",
    "with open(\"access-log\") as logfile:\n",
    "    loglines = follow(logfile)\n",
    "    pylines  = grep(\"python\",loglines)\n",
    "\n",
    "    # Pull results out of the processing pipeline\n",
    "    for line in pylines:\n",
    "        print line,"
   ]
  },
  {
   "cell_type": "markdown",
   "metadata": {
    "slideshow": {
     "slide_type": "slide"
    }
   },
   "source": [
    "## Data Flow (a la <a href=\"http://www.dabeaz.com/coroutines/\" target=\"_blank\">David Beazley</a>)\n",
    "___\n",
    "An example of setting up a similar pipeline with coroutines"
   ]
  },
  {
   "cell_type": "code",
   "execution_count": 423,
   "metadata": {
    "collapsed": false
   },
   "outputs": [
    {
     "name": "stdout",
     "output_type": "stream",
     "text": [
      "Looking for python\n",
      "66.249.65.37 - - [02/Apr/2015:00:51:57 -0600] \"GET /papers/python.html HTTP/1.1\" 404 133\n",
      "128.135.125.245 - - [02/Apr/2015:00:51:58 -0600] \"GET /python/tutorial/beazley_intro_python/intropy.pdf HTTP/1.0\" 304 -\n",
      "194.105.57.11 - - [02/Apr/2015:00:52:01 -0600] \"GET /python/tutorial/beazley_advanced_python/Slides/SLIDE002.HTM HTTP/1.0\" 200 1352\n",
      "189.141.19.88 - - [02/Apr/2015:00:52:03 -0600] \"GET /python/tutorial/beazley_advanced_python/Slides/SLIDE096.HTM HTTP/1.0\" 200 1671\n",
      "123.190.193.8 - - [02/Apr/2015:00:52:03 -0600] \"GET /python/tutorial/beazley_advanced_python/Slides/SLIDE059.HTM HTTP/1.0\" 200 1694\n"
     ]
    },
    {
     "ename": "KeyboardInterrupt",
     "evalue": "",
     "output_type": "error",
     "traceback": [
      "\u001b[0;31m---------------------------------------------------------------------------\u001b[0m",
      "\u001b[0;31mKeyboardInterrupt\u001b[0m                         Traceback (most recent call last)",
      "\u001b[0;32m<ipython-input-423-0ade070e4e58>\u001b[0m in \u001b[0;36m<module>\u001b[0;34m()\u001b[0m\n\u001b[1;32m     24\u001b[0m \u001b[0;34m\u001b[0m\u001b[0m\n\u001b[1;32m     25\u001b[0m \u001b[0;32mwith\u001b[0m \u001b[0mopen\u001b[0m\u001b[0;34m(\u001b[0m\u001b[0;34m\"access-log\"\u001b[0m\u001b[0;34m)\u001b[0m \u001b[0;32mas\u001b[0m \u001b[0mlogfile\u001b[0m\u001b[0;34m:\u001b[0m\u001b[0;34m\u001b[0m\u001b[0m\n\u001b[0;32m---> 26\u001b[0;31m     \u001b[0mfollow\u001b[0m\u001b[0;34m(\u001b[0m\u001b[0mlogfile\u001b[0m\u001b[0;34m,\u001b[0m\u001b[0mgrep\u001b[0m\u001b[0;34m(\u001b[0m\u001b[0;34m'python'\u001b[0m\u001b[0;34m,\u001b[0m\u001b[0mprinter\u001b[0m\u001b[0;34m(\u001b[0m\u001b[0;34m)\u001b[0m \u001b[0;34m)\u001b[0m \u001b[0;34m)\u001b[0m\u001b[0;34m\u001b[0m\u001b[0m\n\u001b[0m",
      "\u001b[0;32m<ipython-input-423-0ade070e4e58>\u001b[0m in \u001b[0;36mfollow\u001b[0;34m(thefile, target)\u001b[0m\n\u001b[1;32m      5\u001b[0m          \u001b[0mline\u001b[0m \u001b[0;34m=\u001b[0m \u001b[0mthefile\u001b[0m\u001b[0;34m.\u001b[0m\u001b[0mreadline\u001b[0m\u001b[0;34m(\u001b[0m\u001b[0;34m)\u001b[0m\u001b[0;34m\u001b[0m\u001b[0m\n\u001b[1;32m      6\u001b[0m          \u001b[0;32mif\u001b[0m \u001b[0;32mnot\u001b[0m \u001b[0mline\u001b[0m\u001b[0;34m:\u001b[0m\u001b[0;34m\u001b[0m\u001b[0m\n\u001b[0;32m----> 7\u001b[0;31m              \u001b[0mtime\u001b[0m\u001b[0;34m.\u001b[0m\u001b[0msleep\u001b[0m\u001b[0;34m(\u001b[0m\u001b[0;36m0.1\u001b[0m\u001b[0;34m)\u001b[0m    \u001b[0;31m# Sleep briefly\u001b[0m\u001b[0;34m\u001b[0m\u001b[0m\n\u001b[0m\u001b[1;32m      8\u001b[0m              \u001b[0;32mcontinue\u001b[0m\u001b[0;34m\u001b[0m\u001b[0m\n\u001b[1;32m      9\u001b[0m          \u001b[0mtarget\u001b[0m\u001b[0;34m.\u001b[0m\u001b[0msend\u001b[0m\u001b[0;34m(\u001b[0m\u001b[0mline\u001b[0m\u001b[0;34m)\u001b[0m\u001b[0;34m\u001b[0m\u001b[0m\n",
      "\u001b[0;31mKeyboardInterrupt\u001b[0m: "
     ]
    }
   ],
   "source": [
    "import time\n",
    "def follow(thefile, target):\n",
    "    thefile.seek(0,2)      # Go to the end of the file\n",
    "    while True:\n",
    "         line = thefile.readline()\n",
    "         if not line:\n",
    "             time.sleep(0.1)    # Sleep briefly\n",
    "             continue\n",
    "         target.send(line)\n",
    "\n",
    "@consumer\n",
    "def grep(pattern, target):\n",
    "    print \"Looking for %s\" % pattern\n",
    "    while True:\n",
    "        line = (yield)\n",
    "        if pattern in line:\n",
    "            target.send(line),\n",
    "\n",
    "@consumer\n",
    "def printer():\n",
    "    while True:\n",
    "         line = (yield)\n",
    "         print line,\n",
    "\n",
    "with open(\"access-log\") as logfile:\n",
    "    follow(logfile, grep('python',printer() ) )"
   ]
  },
  {
   "cell_type": "markdown",
   "metadata": {
    "slideshow": {
     "slide_type": "slide"
    }
   },
   "source": [
    "## Are generators fast for data flow?\n",
    "___\n",
    "Lets start with Beazely's <a href=\"http://www.dabeaz.com/coroutines/benchmark.py\" target=\"_blank\">Benchmark</a> example "
   ]
  },
  {
   "cell_type": "code",
   "execution_count": 468,
   "metadata": {
    "collapsed": false,
    "slideshow": {
     "slide_type": "-"
    }
   },
   "outputs": [
    {
     "name": "stdout",
     "output_type": "stream",
     "text": [
      "coroutine: 0.320209026337\n",
      "object: 0.388246059418\n"
     ]
    }
   ],
   "source": [
    "# An object\n",
    "class GrepHandler(object):\n",
    "    def __init__(self,pattern, target):\n",
    "        self.pattern = pattern\n",
    "        self.target = target\n",
    "    def send(self,line):\n",
    "        if self.pattern in line:\n",
    "            self.target.send(line)\n",
    "\n",
    "# A coroutine\n",
    "@consumer\n",
    "def grep(pattern,target):\n",
    "    while True:\n",
    "        line = (yield)\n",
    "        if pattern in line:\n",
    "            target.send(line)\n",
    "\n",
    "# A null-sink to send data\n",
    "@consumer\n",
    "def null(): \n",
    "    while True: item = (yield)\n",
    "\n",
    "# A benchmark\n",
    "line = 'python is nice'\n",
    "p1   = grep('python',null())          # Coroutine\n",
    "p2   = GrepHandler('python',null())   # Object\n",
    "\n",
    "from timeit import timeit\n",
    "\n",
    "print \"coroutine:\", timeit(\"p1.send(line)\", \"from __main__ import line, p1\")\n",
    "\n",
    "print \"object:\", timeit(\"p2.send(line)\", \"from __main__ import line, p2\")"
   ]
  },
  {
   "cell_type": "markdown",
   "metadata": {
    "slideshow": {
     "slide_type": "subslide"
    }
   },
   "source": [
    "## Lets call send a few more times...\n",
    "___\n",
    "The idea for this benchmark comes from a stack overflow question <a href=\"http://stackoverflow.com/questions/15434420/a-faster-nested-tuple-to-list-and-back\" target=\"_blank\">a-faster-nested-tuple-to-list-and-back</a>\n",
    "\n",
    "```\n",
    "I'm trying to perform tuple to list and list to tuple conversions on nested sequences of unknown depth and shape. The calls are being made hundreds of thousands of times, which is why I'm trying to squeeze out as much speed as possible.\n",
    "```\n",
    "\n",
    "First, lets define a function to make some test data...\n"
   ]
  },
  {
   "cell_type": "code",
   "execution_count": 473,
   "metadata": {
    "collapsed": false
   },
   "outputs": [
    {
     "data": {
      "text/plain": [
       "[[[0, 1], [[[0, 1], [[[0, 1], []]]], [[0, 1], [[[0, 1], []]]]]],\n",
       " [[0, 1], [[[0, 1], [[[0, 1], []]]], [[0, 1], [[[0, 1], []]]]]],\n",
       " [[0, 1], [[[0, 1], [[[0, 1], []]]], [[0, 1], [[[0, 1], []]]]]]]"
      ]
     },
     "execution_count": 473,
     "metadata": {},
     "output_type": "execute_result"
    }
   ],
   "source": [
    "def make_test(m, n):\n",
    "  return [[range(m), make_test(m, n-1)] for i in range(n)]\n",
    "make_test(2,3)"
   ]
  },
  {
   "cell_type": "code",
   "execution_count": 474,
   "metadata": {
    "collapsed": false
   },
   "outputs": [
    {
     "data": {
      "text/plain": [
       "(((0, 1), (((0, 1), (((0, 1), ()),)), ((0, 1), (((0, 1), ()),)))),\n",
       " ((0, 1), (((0, 1), (((0, 1), ()),)), ((0, 1), (((0, 1), ()),)))),\n",
       " ((0, 1), (((0, 1), (((0, 1), ()),)), ((0, 1), (((0, 1), ()),)))))"
      ]
     },
     "execution_count": 474,
     "metadata": {},
     "output_type": "execute_result"
    }
   ],
   "source": [
    "def list2tuple(a):\n",
    "  return tuple((list2tuple(x) if isinstance(x, list) else x for x in a))\n",
    "\n",
    "def tuple2list(a):\n",
    "  return list((tuple2list(x) if isinstance(x, tuple) else x for x in a))\n",
    "\n",
    "list2tuple(make_test(2,3))"
   ]
  },
  {
   "cell_type": "markdown",
   "metadata": {},
   "source": [
    "<a href=\"http://stackoverflow.com/a/15434789/2136991\" target=\"_blank\">From HYRY's answer</a>"
   ]
  },
  {
   "cell_type": "markdown",
   "metadata": {
    "slideshow": {
     "slide_type": "subslide"
    }
   },
   "source": [
    "##Now lets try a solution using coroutines\n",
    "___"
   ]
  },
  {
   "cell_type": "code",
   "execution_count": 485,
   "metadata": {
    "collapsed": false,
    "slideshow": {
     "slide_type": "-"
    }
   },
   "outputs": [],
   "source": [
    "@consumer\n",
    "def cotuple2list():\n",
    "  \"\"\"converts tuples to lists\"\"\"\n",
    "  result = None\n",
    "  while True:\n",
    "    (tup, co_pool) = (yield result)\n",
    "    result = list(tup)\n",
    "    for (i,x) in enumerate(result):\n",
    "      if isinstance(x,tuple):\n",
    "        result[i] = co_pool[0].send((x, co_pool[1:]))\n",
    "\n",
    "\n",
    "@consumer\n",
    "def colist2tuple():\n",
    "  \"\"\"Convertes lists to tuples\"\"\"\n",
    "  result = None\n",
    "  while True:\n",
    "    (lst, co_pool) = (yield result)\n",
    "    for (i,x) in enumerate(lst):\n",
    "      if isinstance(x,list):\n",
    "        lst[i] = co_pool[0].send((x, co_pool[1:]))\n",
    "    result = tuple(lst)\n"
   ]
  },
  {
   "cell_type": "markdown",
   "metadata": {},
   "source": [
    "<a href=\"http://stackoverflow.com/a/15435926/2136991\" target=\"_blank\">From my answer</a>"
   ]
  },
  {
   "cell_type": "markdown",
   "metadata": {
    "slideshow": {
     "slide_type": "subslide"
    }
   },
   "source": [
    "## Lets timeit!\n",
    "___"
   ]
  },
  {
   "cell_type": "code",
   "execution_count": 487,
   "metadata": {
    "collapsed": false
   },
   "outputs": [
    {
     "name": "stdout",
     "output_type": "stream",
     "text": [
      "The slowest run took 55252.67 times longer than the fastest. This could mean that an intermediate result is being cached \n",
      "100000 loops, best of 3: 2.3 µs per loop\n"
     ]
    }
   ],
   "source": [
    "t = make_test(breadth, depth)\n",
    "%timeit colist2tuple_pool[0].send((t, colist2tuple_pool[1:]))"
   ]
  },
  {
   "cell_type": "markdown",
   "metadata": {
    "slideshow": {
     "slide_type": "fragment"
    }
   },
   "source": [
    "Okay, that didn't work..."
   ]
  },
  {
   "cell_type": "code",
   "execution_count": 488,
   "metadata": {
    "collapsed": false,
    "slideshow": {
     "slide_type": "fragment"
    }
   },
   "outputs": [
    {
     "name": "stdout",
     "output_type": "stream",
     "text": [
      "list2tuple\n",
      "time:  ['0.13708', '0.15126', '0.13760', '0.12958', '0.12790']\n",
      "colist2tuple_pool\n",
      "time:  ['0.01194', '0.01210', '0.01241', '0.01220', '0.01219']\n"
     ]
    }
   ],
   "source": [
    "import timeit\n",
    "number = 10\n",
    "repeat = 5\n",
    "depth = 7\n",
    "breadth = 25\n",
    "print \"list2tuple\\ntime:  %s\" % [\"%0.5f\" % (v/number) for v in timeit.repeat('list2tuple(t)', setup='from __main__ import list2tuple, make_test, depth, breadth; t = make_test(breadth, depth)', number=number, repeat=repeat)]\n",
    "\n",
    "colist2tuple_pool = [colist2tuple() for i in xrange(breadth+1) ]\n",
    "print \"colist2tuple_pool\\ntime:  %s\" % [\"%0.5f\" % (v/number) for v in timeit.repeat('colist2tuple_pool[0].send((t, colist2tuple_pool[1:]))', setup='from __main__ import colist2tuple_pool, make_test, depth, breadth; t = make_test(breadth, depth)', number=number, repeat=repeat)]\n"
   ]
  },
  {
   "cell_type": "markdown",
   "metadata": {
    "collapsed": true,
    "slideshow": {
     "slide_type": "fragment"
    }
   },
   "source": [
    "Now that looks more interesting!"
   ]
  },
  {
   "cell_type": "code",
   "execution_count": null,
   "metadata": {
    "collapsed": true,
    "slideshow": {
     "slide_type": "subslide"
    }
   },
   "outputs": [],
   "source": [
    "## Lets try HYRY's Cython\n",
    "___\n"
   ]
  },
  {
   "cell_type": "code",
   "execution_count": 575,
   "metadata": {
    "collapsed": false,
    "slideshow": {
     "slide_type": "fragment"
    }
   },
   "outputs": [
    {
     "name": "stdout",
     "output_type": "stream",
     "text": [
      "Compiling /Users/davidstuebe/Library/Caches/cython/inline/_cython_inline_838386d3f99a608117807ccda8cfeebc.pyx because it changed.\n",
      "Cythonizing /Users/davidstuebe/Library/Caches/cython/inline/_cython_inline_838386d3f99a608117807ccda8cfeebc.pyx\n"
     ]
    }
   ],
   "source": [
    "import cython\n",
    "\n",
    "list2tuple3, tuple2list3 = cython.inline(\n",
    "    \"\"\"\n",
    "    @cython.profile (True)\n",
    "    def list2tuple3(a):\n",
    "        return tuple([list2tuple3(x) if type(x)==list else x for x in a])\n",
    "\n",
    "    @cython.profile (True)\n",
    "    def tuple2list3(a):\n",
    "        return [tuple2list3(x) if type(x)==tuple else x for x in a]\n",
    "    \"\"\"\n",
    "    ).values() # it returns a dict of named functions"
   ]
  },
  {
   "cell_type": "code",
   "execution_count": 576,
   "metadata": {
    "collapsed": false,
    "slideshow": {
     "slide_type": "fragment"
    }
   },
   "outputs": [
    {
     "name": "stdout",
     "output_type": "stream",
     "text": [
      "colist2tuple_pool\n",
      "time:  ['0.01400', '0.01310', '0.01315', '0.01294', '0.01290']\n",
      "list2tuple3\n",
      "time:  ['0.02258', '0.02360', '0.02331', '0.02264', '0.02310']\n"
     ]
    }
   ],
   "source": [
    "print \"colist2tuple_pool\\ntime:  %s\" % [\"%0.5f\" % (v/number) for v in timeit.repeat('colist2tuple_pool[0].send((t, colist2tuple_pool[1:]))', setup='from __main__ import colist2tuple_pool, make_test, depth, breadth; t = make_test(breadth, depth)', number=number, repeat=repeat)]\n",
    "\n",
    "print \"list2tuple3\\ntime:  %s\" % [\"%0.5f\" % (v/number) for v in timeit.repeat('list2tuple3(t)', setup='from __main__ import list2tuple3, make_test, depth, breadth; t = make_test(breadth, depth)', number=number, repeat=repeat)]"
   ]
  },
  {
   "cell_type": "markdown",
   "metadata": {},
   "source": [
    "### What the heck - it is faster than cython!"
   ]
  },
  {
   "cell_type": "markdown",
   "metadata": {
    "slideshow": {
     "slide_type": "slide"
    }
   },
   "source": [
    "## Lets try profiling?\n",
    "___"
   ]
  },
  {
   "cell_type": "code",
   "execution_count": 584,
   "metadata": {
    "collapsed": true
   },
   "outputs": [],
   "source": [
    "import cProfile\n",
    "t = make_test(10, depth)"
   ]
  },
  {
   "cell_type": "code",
   "execution_count": 585,
   "metadata": {
    "collapsed": false
   },
   "outputs": [
    {
     "name": "stdout",
     "output_type": "stream",
     "text": [
      "         438372 function calls (178098 primitive calls) in 0.220 seconds\n",
      "\n",
      "   Ordered by: standard name\n",
      "\n",
      "   ncalls  tottime  percall  cumtime  percall filename:lineno(function)\n",
      "  41098/1    0.109    0.000    0.219    0.219 <ipython-input-474-19d1758e8e98>:1(list2tuple)\n",
      " 219185/8    0.073    0.000    0.219    0.027 <ipython-input-474-19d1758e8e98>:2(<genexpr>)\n",
      "        1    0.001    0.001    0.220    0.220 <string>:1(<module>)\n",
      "   178087    0.036    0.000    0.036    0.000 {isinstance}\n",
      "        1    0.000    0.000    0.000    0.000 {method 'disable' of '_lsprof.Profiler' objects}\n",
      "\n",
      "\n"
     ]
    }
   ],
   "source": [
    "cProfile.run('list2tuple(t);')"
   ]
  },
  {
   "cell_type": "code",
   "execution_count": 586,
   "metadata": {
    "collapsed": false
   },
   "outputs": [
    {
     "name": "stdout",
     "output_type": "stream",
     "text": [
      "         41100 function calls (3 primitive calls) in 0.040 seconds\n",
      "\n",
      "   Ordered by: standard name\n",
      "\n",
      "   ncalls  tottime  percall  cumtime  percall filename:lineno(function)\n",
      "        1    0.001    0.001    0.040    0.040 <string>:1(<module>)\n",
      "  41098/1    0.039    0.000    0.039    0.039 _cython_inline_838386d3f99a608117807ccda8cfeebc.pyx:8(list2tuple3)\n",
      "        1    0.000    0.000    0.000    0.000 {method 'disable' of '_lsprof.Profiler' objects}\n",
      "\n",
      "\n"
     ]
    }
   ],
   "source": [
    "cProfile.run('list2tuple3(t);')\n"
   ]
  },
  {
   "cell_type": "code",
   "execution_count": 587,
   "metadata": {
    "collapsed": false
   },
   "outputs": [
    {
     "name": "stdout",
     "output_type": "stream",
     "text": [
      "         260285 function calls (178091 primitive calls) in 0.125 seconds\n",
      "\n",
      "   Ordered by: standard name\n",
      "\n",
      "   ncalls  tottime  percall  cumtime  percall filename:lineno(function)\n",
      "  41098/1    0.087    0.000    0.125    0.125 <ipython-input-485-f23827ad9191>:13(colist2tuple)\n",
      "        1    0.000    0.000    0.125    0.125 <string>:1(<module>)\n",
      "   178087    0.032    0.000    0.032    0.000 {isinstance}\n",
      "        1    0.000    0.000    0.000    0.000 {method 'disable' of '_lsprof.Profiler' objects}\n",
      "  41098/1    0.006    0.000    0.125    0.125 {method 'send' of 'generator' objects}\n",
      "\n",
      "\n"
     ]
    }
   ],
   "source": [
    "cProfile.run('colist2tuple_pool[0].send((t, colist2tuple_pool[1:]));')"
   ]
  },
  {
   "cell_type": "markdown",
   "metadata": {},
   "source": [
    "This doesn't help me much? Any thoughts?"
   ]
  },
  {
   "cell_type": "markdown",
   "metadata": {
    "slideshow": {
     "slide_type": "slide"
    }
   },
   "source": [
    "## Lets try a dot product\n",
    "___\n"
   ]
  },
  {
   "cell_type": "code",
   "execution_count": 608,
   "metadata": {
    "collapsed": true
   },
   "outputs": [],
   "source": [
    "import numpy\n",
    "import itertools\n",
    "import time\n",
    " \n",
    "# make some data\n",
    "n = 1000000\n",
    "a = numpy.random.randn(n)\n",
    "b = numpy.random.randn(n)\n",
    "    "
   ]
  },
  {
   "cell_type": "code",
   "execution_count": 614,
   "metadata": {
    "collapsed": false
   },
   "outputs": [
    {
     "name": "stdout",
     "output_type": "stream",
     "text": [
      "Numpy Dot Product\n",
      "time:  ['0.00117', '0.00098', '0.00081', '0.00082', '0.00084']\n"
     ]
    }
   ],
   "source": [
    "print \"Numpy Dot Product\\ntime:  %s\" % [\"%0.5f\" % (v/number) for v in timeit.repeat('numpy.dot(a,b)', setup='from __main__ import numpy, a, b', number=number, repeat=repeat)]"
   ]
  },
  {
   "cell_type": "code",
   "execution_count": 613,
   "metadata": {
    "collapsed": false
   },
   "outputs": [
    {
     "name": "stdout",
     "output_type": "stream",
     "text": [
      "Coroutine Dot Product\n",
      "time:  ['0.10584', '0.11044', '0.10758', '0.11602', '0.10354']\n"
     ]
    }
   ],
   "source": [
    "@consumer\n",
    "def mult(target=None):\n",
    "    if target is None:\n",
    "        raise RuntimeError('Must specify targe coroutine!')\n",
    " \n",
    "    result = numpy.float64(0.0)\n",
    "    while True:\n",
    "        (a, b) = (yield result)\n",
    "        result = target.send(a*b)\n",
    "        \n",
    "@consumer\n",
    "def add():\n",
    "    result = numpy.float64(0.0)\n",
    "    while True:\n",
    "        m = (yield result)\n",
    "        result += m\n",
    "        \n",
    "dot_product_process = mult(add())\n",
    " \n",
    "def time_co_loop(it):\n",
    "    for a_val,b_val in it: \n",
    "        dot_product = dot_product_process.send((a_val, b_val))\n",
    "\n",
    "print \"Coroutine Dot Product\\ntime:  %s\" % [\"%0.5f\" % (v/number) for v in timeit.repeat('time_co_loop(it)', setup='from __main__ import numpy, time_co_loop, a, b; it = numpy.nditer([a, b])', number=number, repeat=repeat)]\n",
    "\n"
   ]
  },
  {
   "cell_type": "code",
   "execution_count": 616,
   "metadata": {
    "collapsed": false
   },
   "outputs": [
    {
     "ename": "KeyboardInterrupt",
     "evalue": "",
     "output_type": "error",
     "traceback": [
      "\u001b[0;31m---------------------------------------------------------------------------\u001b[0m",
      "\u001b[0;31mKeyboardInterrupt\u001b[0m                         Traceback (most recent call last)",
      "\u001b[0;32m<ipython-input-616-73004aea8b34>\u001b[0m in \u001b[0;36m<module>\u001b[0;34m()\u001b[0m\n\u001b[1;32m      5\u001b[0m     \u001b[0;32mreturn\u001b[0m \u001b[0mresult\u001b[0m\u001b[0;34m\u001b[0m\u001b[0m\n\u001b[1;32m      6\u001b[0m \u001b[0;34m\u001b[0m\u001b[0m\n\u001b[0;32m----> 7\u001b[0;31m \u001b[0;32mprint\u001b[0m \u001b[0;34m\"Naive Dot Product\\ntime:  %s\"\u001b[0m \u001b[0;34m%\u001b[0m \u001b[0;34m[\u001b[0m\u001b[0;34m\"%0.5f\"\u001b[0m \u001b[0;34m%\u001b[0m \u001b[0;34m(\u001b[0m\u001b[0mv\u001b[0m\u001b[0;34m/\u001b[0m\u001b[0mnumber\u001b[0m\u001b[0;34m)\u001b[0m \u001b[0;32mfor\u001b[0m \u001b[0mv\u001b[0m \u001b[0;32min\u001b[0m \u001b[0mtimeit\u001b[0m\u001b[0;34m.\u001b[0m\u001b[0mrepeat\u001b[0m\u001b[0;34m(\u001b[0m\u001b[0;34m'time_loop(it)'\u001b[0m\u001b[0;34m,\u001b[0m \u001b[0msetup\u001b[0m\u001b[0;34m=\u001b[0m\u001b[0;34m'from __main__ import numpy, time_loop, a, b; it = numpy.nditer([a, b])'\u001b[0m\u001b[0;34m,\u001b[0m \u001b[0mnumber\u001b[0m\u001b[0;34m=\u001b[0m\u001b[0mnumber\u001b[0m\u001b[0;34m,\u001b[0m \u001b[0mrepeat\u001b[0m\u001b[0;34m=\u001b[0m\u001b[0mrepeat\u001b[0m\u001b[0;34m)\u001b[0m\u001b[0;34m]\u001b[0m\u001b[0;34m\u001b[0m\u001b[0m\n\u001b[0m",
      "\u001b[0;32m/usr/local/Cellar/python/2.7.8_1/Frameworks/Python.framework/Versions/2.7/lib/python2.7/timeit.pyc\u001b[0m in \u001b[0;36mrepeat\u001b[0;34m(stmt, setup, timer, repeat, number)\u001b[0m\n\u001b[1;32m    233\u001b[0m            repeat=default_repeat, number=default_number):\n\u001b[1;32m    234\u001b[0m     \u001b[0;34m\"\"\"Convenience function to create Timer object and call repeat method.\"\"\"\u001b[0m\u001b[0;34m\u001b[0m\u001b[0m\n\u001b[0;32m--> 235\u001b[0;31m     \u001b[0;32mreturn\u001b[0m \u001b[0mTimer\u001b[0m\u001b[0;34m(\u001b[0m\u001b[0mstmt\u001b[0m\u001b[0;34m,\u001b[0m \u001b[0msetup\u001b[0m\u001b[0;34m,\u001b[0m \u001b[0mtimer\u001b[0m\u001b[0;34m)\u001b[0m\u001b[0;34m.\u001b[0m\u001b[0mrepeat\u001b[0m\u001b[0;34m(\u001b[0m\u001b[0mrepeat\u001b[0m\u001b[0;34m,\u001b[0m \u001b[0mnumber\u001b[0m\u001b[0;34m)\u001b[0m\u001b[0;34m\u001b[0m\u001b[0m\n\u001b[0m\u001b[1;32m    236\u001b[0m \u001b[0;34m\u001b[0m\u001b[0m\n\u001b[1;32m    237\u001b[0m \u001b[0;32mdef\u001b[0m \u001b[0mmain\u001b[0m\u001b[0;34m(\u001b[0m\u001b[0margs\u001b[0m\u001b[0;34m=\u001b[0m\u001b[0mNone\u001b[0m\u001b[0;34m)\u001b[0m\u001b[0;34m:\u001b[0m\u001b[0;34m\u001b[0m\u001b[0m\n",
      "\u001b[0;32m/usr/local/Cellar/python/2.7.8_1/Frameworks/Python.framework/Versions/2.7/lib/python2.7/timeit.pyc\u001b[0m in \u001b[0;36mrepeat\u001b[0;34m(self, repeat, number)\u001b[0m\n\u001b[1;32m    221\u001b[0m         \u001b[0mr\u001b[0m \u001b[0;34m=\u001b[0m \u001b[0;34m[\u001b[0m\u001b[0;34m]\u001b[0m\u001b[0;34m\u001b[0m\u001b[0m\n\u001b[1;32m    222\u001b[0m         \u001b[0;32mfor\u001b[0m \u001b[0mi\u001b[0m \u001b[0;32min\u001b[0m \u001b[0mrange\u001b[0m\u001b[0;34m(\u001b[0m\u001b[0mrepeat\u001b[0m\u001b[0;34m)\u001b[0m\u001b[0;34m:\u001b[0m\u001b[0;34m\u001b[0m\u001b[0m\n\u001b[0;32m--> 223\u001b[0;31m             \u001b[0mt\u001b[0m \u001b[0;34m=\u001b[0m \u001b[0mself\u001b[0m\u001b[0;34m.\u001b[0m\u001b[0mtimeit\u001b[0m\u001b[0;34m(\u001b[0m\u001b[0mnumber\u001b[0m\u001b[0;34m)\u001b[0m\u001b[0;34m\u001b[0m\u001b[0m\n\u001b[0m\u001b[1;32m    224\u001b[0m             \u001b[0mr\u001b[0m\u001b[0;34m.\u001b[0m\u001b[0mappend\u001b[0m\u001b[0;34m(\u001b[0m\u001b[0mt\u001b[0m\u001b[0;34m)\u001b[0m\u001b[0;34m\u001b[0m\u001b[0m\n\u001b[1;32m    225\u001b[0m         \u001b[0;32mreturn\u001b[0m \u001b[0mr\u001b[0m\u001b[0;34m\u001b[0m\u001b[0m\n",
      "\u001b[0;32m/usr/local/Cellar/python/2.7.8_1/Frameworks/Python.framework/Versions/2.7/lib/python2.7/timeit.pyc\u001b[0m in \u001b[0;36mtimeit\u001b[0;34m(self, number)\u001b[0m\n\u001b[1;32m    193\u001b[0m         \u001b[0mgc\u001b[0m\u001b[0;34m.\u001b[0m\u001b[0mdisable\u001b[0m\u001b[0;34m(\u001b[0m\u001b[0;34m)\u001b[0m\u001b[0;34m\u001b[0m\u001b[0m\n\u001b[1;32m    194\u001b[0m         \u001b[0;32mtry\u001b[0m\u001b[0;34m:\u001b[0m\u001b[0;34m\u001b[0m\u001b[0m\n\u001b[0;32m--> 195\u001b[0;31m             \u001b[0mtiming\u001b[0m \u001b[0;34m=\u001b[0m \u001b[0mself\u001b[0m\u001b[0;34m.\u001b[0m\u001b[0minner\u001b[0m\u001b[0;34m(\u001b[0m\u001b[0mit\u001b[0m\u001b[0;34m,\u001b[0m \u001b[0mself\u001b[0m\u001b[0;34m.\u001b[0m\u001b[0mtimer\u001b[0m\u001b[0;34m)\u001b[0m\u001b[0;34m\u001b[0m\u001b[0m\n\u001b[0m\u001b[1;32m    196\u001b[0m         \u001b[0;32mfinally\u001b[0m\u001b[0;34m:\u001b[0m\u001b[0;34m\u001b[0m\u001b[0m\n\u001b[1;32m    197\u001b[0m             \u001b[0;32mif\u001b[0m \u001b[0mgcold\u001b[0m\u001b[0;34m:\u001b[0m\u001b[0;34m\u001b[0m\u001b[0m\n",
      "\u001b[0;32m/usr/local/Cellar/python/2.7.8_1/Frameworks/Python.framework/Versions/2.7/lib/python2.7/timeit.pyc\u001b[0m in \u001b[0;36minner\u001b[0;34m(_it, _timer)\u001b[0m\n",
      "\u001b[0;32m<ipython-input-616-73004aea8b34>\u001b[0m in \u001b[0;36mtime_loop\u001b[0;34m(it)\u001b[0m\n\u001b[1;32m      2\u001b[0m     \u001b[0mresult\u001b[0m \u001b[0;34m=\u001b[0m \u001b[0mnumpy\u001b[0m\u001b[0;34m.\u001b[0m\u001b[0mfloat64\u001b[0m\u001b[0;34m(\u001b[0m\u001b[0;36m0.0\u001b[0m\u001b[0;34m)\u001b[0m\u001b[0;34m\u001b[0m\u001b[0m\n\u001b[1;32m      3\u001b[0m     \u001b[0;32mfor\u001b[0m \u001b[0;34m(\u001b[0m\u001b[0ma_val\u001b[0m\u001b[0;34m,\u001b[0m\u001b[0mb_val\u001b[0m\u001b[0;34m)\u001b[0m \u001b[0;32min\u001b[0m \u001b[0mit\u001b[0m\u001b[0;34m:\u001b[0m\u001b[0;34m\u001b[0m\u001b[0m\n\u001b[0;32m----> 4\u001b[0;31m         \u001b[0mresult\u001b[0m \u001b[0;34m+=\u001b[0m \u001b[0ma\u001b[0m\u001b[0;34m*\u001b[0m\u001b[0mb\u001b[0m\u001b[0;34m\u001b[0m\u001b[0m\n\u001b[0m\u001b[1;32m      5\u001b[0m     \u001b[0;32mreturn\u001b[0m \u001b[0mresult\u001b[0m\u001b[0;34m\u001b[0m\u001b[0m\n\u001b[1;32m      6\u001b[0m \u001b[0;34m\u001b[0m\u001b[0m\n",
      "\u001b[0;31mKeyboardInterrupt\u001b[0m: "
     ]
    }
   ],
   "source": [
    "def time_loop(it):\n",
    "    result = numpy.float64(0.0)\n",
    "    for (a_val,b_val) in it:\n",
    "        result += a*b\n",
    "    return result\n",
    "\n",
    "print \"Naive Dot Product\\ntime:  %s\" % [\"%0.5f\" % (v/number) for v in timeit.repeat('time_loop(it)', setup='from __main__ import numpy, time_loop, a, b; it = numpy.nditer([a, b])', number=number, repeat=repeat)]"
   ]
  },
  {
   "cell_type": "code",
   "execution_count": 615,
   "metadata": {
    "collapsed": false
   },
   "outputs": [
    {
     "name": "stdout",
     "output_type": "stream",
     "text": [
      "Coroutine Dot Product\n",
      "time:  ['0.12511', '0.12220', '0.12126', '0.12447', '0.12446']\n"
     ]
    }
   ],
   "source": [
    "# Coroutine processes without using return...\n",
    "@consumer\n",
    "def mult_noresult(target=None):\n",
    "    if target is None:\n",
    "        raise RuntimeError('Must specify targe coroutine!')\n",
    "    while True:\n",
    "        (a, b) = (yield)\n",
    "        result = target.send(a*b)\n",
    "                \n",
    "@consumer\n",
    "def add_noresult(result):\n",
    "    while True:\n",
    "        m = (yield)\n",
    "        result[0] += m\n",
    " \n",
    " \n",
    "result = numpy.zeros((1,))\n",
    "dot_product_process_noresult = mult_noresult(add_noresult(result))\n",
    "  \n",
    "def time_co_result_loop(it):\n",
    "    for a_val,b_val in it: \n",
    "        dot_product = dot_product_process_noresult.send((a_val, b_val))\n",
    "\n",
    "print \"Coroutine Dot Product\\ntime:  %s\" % [\"%0.5f\" % (v/number) for v in timeit.repeat('time_co_result_loop(it)', setup='from __main__ import numpy, time_co_result_loop, a, b; it = numpy.nditer([a, b])', number=number, repeat=repeat)]\n"
   ]
  },
  {
   "cell_type": "markdown",
   "metadata": {
    "slideshow": {
     "slide_type": "slide"
    }
   },
   "source": [
    "### Based on David M. Beazley\n",
    "### Generators: The Final Frontier\n",
    "<a href=\"http://www.dabeaz.com/finalgenerator/\" target=\"_blank\">http://www.dabeaz.com/finalgenerator/</a>\n",
    "\n",
    "### A Curious Course on Coroutines and Concurrency\n",
    "<a href=\"http://www.dabeaz.com/coroutines/\" target=\"_blank\">http://www.dabeaz.com/coroutines/</a>\n"
   ]
  },
  {
   "cell_type": "code",
   "execution_count": null,
   "metadata": {
    "collapsed": true
   },
   "outputs": [],
   "source": []
  },
  {
   "cell_type": "code",
   "execution_count": null,
   "metadata": {
    "collapsed": true
   },
   "outputs": [],
   "source": []
  }
 ],
 "metadata": {
  "celltoolbar": "Slideshow",
  "kernelspec": {
   "display_name": "Python 2",
   "language": "python",
   "name": "python2"
  },
  "language_info": {
   "codemirror_mode": {
    "name": "ipython",
    "version": 2
   },
   "file_extension": ".py",
   "mimetype": "text/x-python",
   "name": "python",
   "nbconvert_exporter": "python",
   "pygments_lexer": "ipython2",
   "version": "2.7.8"
  }
 },
 "nbformat": 4,
 "nbformat_minor": 0
}
